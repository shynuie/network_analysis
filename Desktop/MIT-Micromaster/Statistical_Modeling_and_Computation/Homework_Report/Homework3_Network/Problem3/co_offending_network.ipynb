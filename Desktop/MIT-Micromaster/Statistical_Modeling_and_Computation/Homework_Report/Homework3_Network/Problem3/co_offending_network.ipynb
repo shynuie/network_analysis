{
 "metadata": {
  "language_info": {
   "codemirror_mode": {
    "name": "ipython",
    "version": 3
   },
   "file_extension": ".py",
   "mimetype": "text/x-python",
   "name": "python",
   "nbconvert_exporter": "python",
   "pygments_lexer": "ipython3",
   "version": "3.8.5-final"
  },
  "orig_nbformat": 2,
  "kernelspec": {
   "name": "python3",
   "display_name": "Python 3.8.5 64-bit",
   "metadata": {
    "interpreter": {
     "hash": "aee8b7b246df8f9039afb4144a1f6fd8d2ca17a180786b69acc140d282b71a49"
    }
   }
  }
 },
 "nbformat": 4,
 "nbformat_minor": 2,
 "cells": [
  {
   "cell_type": "code",
   "execution_count": 2,
   "metadata": {},
   "outputs": [],
   "source": [
    "import numpy as np\n",
    "import pandas as pd\n",
    "import networkx as nx\n",
    "import networkx"
   ]
  },
  {
   "cell_type": "code",
   "execution_count": 3,
   "metadata": {},
   "outputs": [],
   "source": [
    "path = \"original_data/Cooffending/Cooffending.csv\"\n",
    "df = pd.read_csv(path)"
   ]
  },
  {
   "cell_type": "code",
   "execution_count": 4,
   "metadata": {},
   "outputs": [
    {
     "output_type": "execute_result",
     "data": {
      "text/plain": [
       "    OffenderIdentifier OffenderGender  CrimeIdentifier  CrimeType1  \\\n",
       "0                    1              F          1085034      3530.0   \n",
       "1                    2              F          1431379      1430.0   \n",
       "2                    4              M           167174      1430.0   \n",
       "3                    5              M          1179096      1420.0   \n",
       "4                   17              M          1270690      1625.0   \n",
       "5                   38              M           356360      1330.0   \n",
       "6                   39              M          1171604     21405.0   \n",
       "7                   40              M           852956      3520.0   \n",
       "8                  149              M           806220      1420.0   \n",
       "9                  231              M           778217     21405.0   \n",
       "10                 232              F            22585     21702.0   \n",
       "11                 301              F           538758     14601.0   \n",
       "12                 302              M          1040440     21409.0   \n",
       "13                 303              M          1040611     21607.0   \n",
       "14                 305              F          1040076     21409.0   \n",
       "15                 306              M          1040319     21704.0   \n",
       "16                 308              F           325340      1430.0   \n",
       "17                 309              M           898956     21201.0   \n",
       "18                 311              M          1040570      1640.0   \n",
       "19                 312              M           214128      1420.0   \n",
       "\n",
       "    CrimeType2  CrimeType3  CrimeType4  Municipality  CrimeLocation  \\\n",
       "0          NaN         NaN         NaN         58227            2.0   \n",
       "1          NaN         NaN         NaN         94068            5.0   \n",
       "2      21702.0         NaN         NaN         49058            2.0   \n",
       "3          NaN         NaN         NaN         65005           71.0   \n",
       "4          NaN         NaN         NaN         23027            NaN   \n",
       "5          NaN         NaN         NaN         62802            1.0   \n",
       "6          NaN         NaN         NaN         65005           70.0   \n",
       "7          NaN         NaN         NaN         66023           83.0   \n",
       "8          NaN         NaN         NaN         66023           21.0   \n",
       "9          NaN         NaN         NaN         66023           71.0   \n",
       "10         NaN         NaN         NaN         66097            4.0   \n",
       "11         NaN         NaN         NaN         66023            2.0   \n",
       "12         NaN         NaN         NaN         94068            2.0   \n",
       "13         NaN         NaN         NaN         94068            2.0   \n",
       "14         NaN         NaN         NaN         94068            2.0   \n",
       "15         NaN         NaN         NaN         94068            1.0   \n",
       "16         NaN         NaN         NaN         62030            1.0   \n",
       "17         NaN         NaN         NaN         58227            2.0   \n",
       "18         NaN         NaN         NaN         94068            2.0   \n",
       "19         NaN         NaN         NaN         66023            7.0   \n",
       "\n",
       "    NumberYouthOffenders  NumberAdultOffenders   CrimeDate  CrimeYear  \n",
       "0                      0                     1  12/17/2005       2005  \n",
       "1                      0                     1  04/23/2008       2008  \n",
       "2                      0                     1  03/06/2008       2008  \n",
       "3                      0                     1  08/21/2008       2008  \n",
       "4                      0                     3  04/30/2003       2003  \n",
       "5                      0                     1  07/28/2005       2005  \n",
       "6                      0                     1  07/16/2007       2007  \n",
       "7                      0                     1  01/30/2008       2008  \n",
       "8                      0                     1  11/03/2005       2005  \n",
       "9                      0                     1  05/09/2007       2007  \n",
       "10                     0                     2  07/10/2009       2009  \n",
       "11                     0                     1  11/06/2003       2003  \n",
       "12                     0                     2  07/08/2003       2003  \n",
       "13                     0                     1  09/02/2003       2003  \n",
       "14                     0                     1  02/23/2003       2003  \n",
       "15                     0                     1  05/28/2003       2003  \n",
       "16                     0                     1  08/05/2003       2003  \n",
       "17                     0                     2  04/13/2003       2003  \n",
       "18                     0                     1  07/01/2003       2003  \n",
       "19                     0                     1  06/13/2003       2003  "
      ],
      "text/html": "<div>\n<style scoped>\n    .dataframe tbody tr th:only-of-type {\n        vertical-align: middle;\n    }\n\n    .dataframe tbody tr th {\n        vertical-align: top;\n    }\n\n    .dataframe thead th {\n        text-align: right;\n    }\n</style>\n<table border=\"1\" class=\"dataframe\">\n  <thead>\n    <tr style=\"text-align: right;\">\n      <th></th>\n      <th>OffenderIdentifier</th>\n      <th>OffenderGender</th>\n      <th>CrimeIdentifier</th>\n      <th>CrimeType1</th>\n      <th>CrimeType2</th>\n      <th>CrimeType3</th>\n      <th>CrimeType4</th>\n      <th>Municipality</th>\n      <th>CrimeLocation</th>\n      <th>NumberYouthOffenders</th>\n      <th>NumberAdultOffenders</th>\n      <th>CrimeDate</th>\n      <th>CrimeYear</th>\n    </tr>\n  </thead>\n  <tbody>\n    <tr>\n      <th>0</th>\n      <td>1</td>\n      <td>F</td>\n      <td>1085034</td>\n      <td>3530.0</td>\n      <td>NaN</td>\n      <td>NaN</td>\n      <td>NaN</td>\n      <td>58227</td>\n      <td>2.0</td>\n      <td>0</td>\n      <td>1</td>\n      <td>12/17/2005</td>\n      <td>2005</td>\n    </tr>\n    <tr>\n      <th>1</th>\n      <td>2</td>\n      <td>F</td>\n      <td>1431379</td>\n      <td>1430.0</td>\n      <td>NaN</td>\n      <td>NaN</td>\n      <td>NaN</td>\n      <td>94068</td>\n      <td>5.0</td>\n      <td>0</td>\n      <td>1</td>\n      <td>04/23/2008</td>\n      <td>2008</td>\n    </tr>\n    <tr>\n      <th>2</th>\n      <td>4</td>\n      <td>M</td>\n      <td>167174</td>\n      <td>1430.0</td>\n      <td>21702.0</td>\n      <td>NaN</td>\n      <td>NaN</td>\n      <td>49058</td>\n      <td>2.0</td>\n      <td>0</td>\n      <td>1</td>\n      <td>03/06/2008</td>\n      <td>2008</td>\n    </tr>\n    <tr>\n      <th>3</th>\n      <td>5</td>\n      <td>M</td>\n      <td>1179096</td>\n      <td>1420.0</td>\n      <td>NaN</td>\n      <td>NaN</td>\n      <td>NaN</td>\n      <td>65005</td>\n      <td>71.0</td>\n      <td>0</td>\n      <td>1</td>\n      <td>08/21/2008</td>\n      <td>2008</td>\n    </tr>\n    <tr>\n      <th>4</th>\n      <td>17</td>\n      <td>M</td>\n      <td>1270690</td>\n      <td>1625.0</td>\n      <td>NaN</td>\n      <td>NaN</td>\n      <td>NaN</td>\n      <td>23027</td>\n      <td>NaN</td>\n      <td>0</td>\n      <td>3</td>\n      <td>04/30/2003</td>\n      <td>2003</td>\n    </tr>\n    <tr>\n      <th>5</th>\n      <td>38</td>\n      <td>M</td>\n      <td>356360</td>\n      <td>1330.0</td>\n      <td>NaN</td>\n      <td>NaN</td>\n      <td>NaN</td>\n      <td>62802</td>\n      <td>1.0</td>\n      <td>0</td>\n      <td>1</td>\n      <td>07/28/2005</td>\n      <td>2005</td>\n    </tr>\n    <tr>\n      <th>6</th>\n      <td>39</td>\n      <td>M</td>\n      <td>1171604</td>\n      <td>21405.0</td>\n      <td>NaN</td>\n      <td>NaN</td>\n      <td>NaN</td>\n      <td>65005</td>\n      <td>70.0</td>\n      <td>0</td>\n      <td>1</td>\n      <td>07/16/2007</td>\n      <td>2007</td>\n    </tr>\n    <tr>\n      <th>7</th>\n      <td>40</td>\n      <td>M</td>\n      <td>852956</td>\n      <td>3520.0</td>\n      <td>NaN</td>\n      <td>NaN</td>\n      <td>NaN</td>\n      <td>66023</td>\n      <td>83.0</td>\n      <td>0</td>\n      <td>1</td>\n      <td>01/30/2008</td>\n      <td>2008</td>\n    </tr>\n    <tr>\n      <th>8</th>\n      <td>149</td>\n      <td>M</td>\n      <td>806220</td>\n      <td>1420.0</td>\n      <td>NaN</td>\n      <td>NaN</td>\n      <td>NaN</td>\n      <td>66023</td>\n      <td>21.0</td>\n      <td>0</td>\n      <td>1</td>\n      <td>11/03/2005</td>\n      <td>2005</td>\n    </tr>\n    <tr>\n      <th>9</th>\n      <td>231</td>\n      <td>M</td>\n      <td>778217</td>\n      <td>21405.0</td>\n      <td>NaN</td>\n      <td>NaN</td>\n      <td>NaN</td>\n      <td>66023</td>\n      <td>71.0</td>\n      <td>0</td>\n      <td>1</td>\n      <td>05/09/2007</td>\n      <td>2007</td>\n    </tr>\n    <tr>\n      <th>10</th>\n      <td>232</td>\n      <td>F</td>\n      <td>22585</td>\n      <td>21702.0</td>\n      <td>NaN</td>\n      <td>NaN</td>\n      <td>NaN</td>\n      <td>66097</td>\n      <td>4.0</td>\n      <td>0</td>\n      <td>2</td>\n      <td>07/10/2009</td>\n      <td>2009</td>\n    </tr>\n    <tr>\n      <th>11</th>\n      <td>301</td>\n      <td>F</td>\n      <td>538758</td>\n      <td>14601.0</td>\n      <td>NaN</td>\n      <td>NaN</td>\n      <td>NaN</td>\n      <td>66023</td>\n      <td>2.0</td>\n      <td>0</td>\n      <td>1</td>\n      <td>11/06/2003</td>\n      <td>2003</td>\n    </tr>\n    <tr>\n      <th>12</th>\n      <td>302</td>\n      <td>M</td>\n      <td>1040440</td>\n      <td>21409.0</td>\n      <td>NaN</td>\n      <td>NaN</td>\n      <td>NaN</td>\n      <td>94068</td>\n      <td>2.0</td>\n      <td>0</td>\n      <td>2</td>\n      <td>07/08/2003</td>\n      <td>2003</td>\n    </tr>\n    <tr>\n      <th>13</th>\n      <td>303</td>\n      <td>M</td>\n      <td>1040611</td>\n      <td>21607.0</td>\n      <td>NaN</td>\n      <td>NaN</td>\n      <td>NaN</td>\n      <td>94068</td>\n      <td>2.0</td>\n      <td>0</td>\n      <td>1</td>\n      <td>09/02/2003</td>\n      <td>2003</td>\n    </tr>\n    <tr>\n      <th>14</th>\n      <td>305</td>\n      <td>F</td>\n      <td>1040076</td>\n      <td>21409.0</td>\n      <td>NaN</td>\n      <td>NaN</td>\n      <td>NaN</td>\n      <td>94068</td>\n      <td>2.0</td>\n      <td>0</td>\n      <td>1</td>\n      <td>02/23/2003</td>\n      <td>2003</td>\n    </tr>\n    <tr>\n      <th>15</th>\n      <td>306</td>\n      <td>M</td>\n      <td>1040319</td>\n      <td>21704.0</td>\n      <td>NaN</td>\n      <td>NaN</td>\n      <td>NaN</td>\n      <td>94068</td>\n      <td>1.0</td>\n      <td>0</td>\n      <td>1</td>\n      <td>05/28/2003</td>\n      <td>2003</td>\n    </tr>\n    <tr>\n      <th>16</th>\n      <td>308</td>\n      <td>F</td>\n      <td>325340</td>\n      <td>1430.0</td>\n      <td>NaN</td>\n      <td>NaN</td>\n      <td>NaN</td>\n      <td>62030</td>\n      <td>1.0</td>\n      <td>0</td>\n      <td>1</td>\n      <td>08/05/2003</td>\n      <td>2003</td>\n    </tr>\n    <tr>\n      <th>17</th>\n      <td>309</td>\n      <td>M</td>\n      <td>898956</td>\n      <td>21201.0</td>\n      <td>NaN</td>\n      <td>NaN</td>\n      <td>NaN</td>\n      <td>58227</td>\n      <td>2.0</td>\n      <td>0</td>\n      <td>2</td>\n      <td>04/13/2003</td>\n      <td>2003</td>\n    </tr>\n    <tr>\n      <th>18</th>\n      <td>311</td>\n      <td>M</td>\n      <td>1040570</td>\n      <td>1640.0</td>\n      <td>NaN</td>\n      <td>NaN</td>\n      <td>NaN</td>\n      <td>94068</td>\n      <td>2.0</td>\n      <td>0</td>\n      <td>1</td>\n      <td>07/01/2003</td>\n      <td>2003</td>\n    </tr>\n    <tr>\n      <th>19</th>\n      <td>312</td>\n      <td>M</td>\n      <td>214128</td>\n      <td>1420.0</td>\n      <td>NaN</td>\n      <td>NaN</td>\n      <td>NaN</td>\n      <td>66023</td>\n      <td>7.0</td>\n      <td>0</td>\n      <td>1</td>\n      <td>06/13/2003</td>\n      <td>2003</td>\n    </tr>\n  </tbody>\n</table>\n</div>"
     },
     "metadata": {},
     "execution_count": 4
    }
   ],
   "source": [
    "df.head(20)"
   ]
  },
  {
   "cell_type": "code",
   "execution_count": 5,
   "metadata": {},
   "outputs": [
    {
     "output_type": "execute_result",
     "data": {
      "text/plain": [
       "1740819"
      ]
     },
     "metadata": {},
     "execution_count": 5
    }
   ],
   "source": [
    "(df[\"NumberYouthOffenders\"] + df[\"NumberAdultOffenders\"]).sum()"
   ]
  },
  {
   "cell_type": "code",
   "execution_count": 6,
   "metadata": {},
   "outputs": [],
   "source": [
    "df2 = df[[\"OffenderIdentifier\", \"CrimeIdentifier\"]]"
   ]
  },
  {
   "cell_type": "code",
   "execution_count": 7,
   "metadata": {},
   "outputs": [],
   "source": [
    "df2 = df2.drop_duplicates()"
   ]
  },
  {
   "cell_type": "code",
   "execution_count": 8,
   "metadata": {},
   "outputs": [
    {
     "output_type": "execute_result",
     "data": {
      "text/plain": [
       "         OffenderIdentifier  CrimeIdentifier\n",
       "0                         1          1085034\n",
       "1                         2          1431379\n",
       "2                         4           167174\n",
       "3                         5          1179096\n",
       "4                        17          1270690\n",
       "...                     ...              ...\n",
       "1280454              670532          1112491\n",
       "1280455              670533            78081\n",
       "1280456              670534           187904\n",
       "1280457              670535           523837\n",
       "1280458              670536          1632652\n",
       "\n",
       "[539593 rows x 2 columns]"
      ],
      "text/html": "<div>\n<style scoped>\n    .dataframe tbody tr th:only-of-type {\n        vertical-align: middle;\n    }\n\n    .dataframe tbody tr th {\n        vertical-align: top;\n    }\n\n    .dataframe thead th {\n        text-align: right;\n    }\n</style>\n<table border=\"1\" class=\"dataframe\">\n  <thead>\n    <tr style=\"text-align: right;\">\n      <th></th>\n      <th>OffenderIdentifier</th>\n      <th>CrimeIdentifier</th>\n    </tr>\n  </thead>\n  <tbody>\n    <tr>\n      <th>0</th>\n      <td>1</td>\n      <td>1085034</td>\n    </tr>\n    <tr>\n      <th>1</th>\n      <td>2</td>\n      <td>1431379</td>\n    </tr>\n    <tr>\n      <th>2</th>\n      <td>4</td>\n      <td>167174</td>\n    </tr>\n    <tr>\n      <th>3</th>\n      <td>5</td>\n      <td>1179096</td>\n    </tr>\n    <tr>\n      <th>4</th>\n      <td>17</td>\n      <td>1270690</td>\n    </tr>\n    <tr>\n      <th>...</th>\n      <td>...</td>\n      <td>...</td>\n    </tr>\n    <tr>\n      <th>1280454</th>\n      <td>670532</td>\n      <td>1112491</td>\n    </tr>\n    <tr>\n      <th>1280455</th>\n      <td>670533</td>\n      <td>78081</td>\n    </tr>\n    <tr>\n      <th>1280456</th>\n      <td>670534</td>\n      <td>187904</td>\n    </tr>\n    <tr>\n      <th>1280457</th>\n      <td>670535</td>\n      <td>523837</td>\n    </tr>\n    <tr>\n      <th>1280458</th>\n      <td>670536</td>\n      <td>1632652</td>\n    </tr>\n  </tbody>\n</table>\n<p>539593 rows × 2 columns</p>\n</div>"
     },
     "metadata": {},
     "execution_count": 8
    }
   ],
   "source": [
    "df2.drop_duplicates(\"OffenderIdentifier\")"
   ]
  },
  {
   "cell_type": "code",
   "execution_count": 9,
   "metadata": {},
   "outputs": [
    {
     "output_type": "execute_result",
     "data": {
      "text/plain": [
       "         OffenderIdentifier  CrimeIdentifier\n",
       "0                         1          1085034\n",
       "1                         2          1431379\n",
       "2                         4           167174\n",
       "3                         5          1179096\n",
       "4                        17          1270690\n",
       "...                     ...              ...\n",
       "1280450              670529            66044\n",
       "1280452              670531          1029474\n",
       "1280453              670531          1029475\n",
       "1280454              670532          1112491\n",
       "1280457              670535           523837\n",
       "\n",
       "[1164836 rows x 2 columns]"
      ],
      "text/html": "<div>\n<style scoped>\n    .dataframe tbody tr th:only-of-type {\n        vertical-align: middle;\n    }\n\n    .dataframe tbody tr th {\n        vertical-align: top;\n    }\n\n    .dataframe thead th {\n        text-align: right;\n    }\n</style>\n<table border=\"1\" class=\"dataframe\">\n  <thead>\n    <tr style=\"text-align: right;\">\n      <th></th>\n      <th>OffenderIdentifier</th>\n      <th>CrimeIdentifier</th>\n    </tr>\n  </thead>\n  <tbody>\n    <tr>\n      <th>0</th>\n      <td>1</td>\n      <td>1085034</td>\n    </tr>\n    <tr>\n      <th>1</th>\n      <td>2</td>\n      <td>1431379</td>\n    </tr>\n    <tr>\n      <th>2</th>\n      <td>4</td>\n      <td>167174</td>\n    </tr>\n    <tr>\n      <th>3</th>\n      <td>5</td>\n      <td>1179096</td>\n    </tr>\n    <tr>\n      <th>4</th>\n      <td>17</td>\n      <td>1270690</td>\n    </tr>\n    <tr>\n      <th>...</th>\n      <td>...</td>\n      <td>...</td>\n    </tr>\n    <tr>\n      <th>1280450</th>\n      <td>670529</td>\n      <td>66044</td>\n    </tr>\n    <tr>\n      <th>1280452</th>\n      <td>670531</td>\n      <td>1029474</td>\n    </tr>\n    <tr>\n      <th>1280453</th>\n      <td>670531</td>\n      <td>1029475</td>\n    </tr>\n    <tr>\n      <th>1280454</th>\n      <td>670532</td>\n      <td>1112491</td>\n    </tr>\n    <tr>\n      <th>1280457</th>\n      <td>670535</td>\n      <td>523837</td>\n    </tr>\n  </tbody>\n</table>\n<p>1164836 rows × 2 columns</p>\n</div>"
     },
     "metadata": {},
     "execution_count": 9
    }
   ],
   "source": [
    "df2.drop_duplicates(\"CrimeIdentifier\")"
   ]
  },
  {
   "cell_type": "code",
   "execution_count": 10,
   "metadata": {},
   "outputs": [],
   "source": [
    "df3 = df[[\"CrimeIdentifier\", \"CrimeYear\"]]\n",
    "df3 = df3.drop_duplicates('CrimeIdentifier')"
   ]
  },
  {
   "cell_type": "code",
   "execution_count": 11,
   "metadata": {},
   "outputs": [
    {
     "output_type": "execute_result",
     "data": {
      "text/plain": [
       "2008    199288\n",
       "2007    196151\n",
       "2006    185840\n",
       "2009    178959\n",
       "2005    172664\n",
       "2004    121374\n",
       "2003    110556\n",
       "2010         4\n",
       "Name: CrimeYear, dtype: int64"
      ]
     },
     "metadata": {},
     "execution_count": 11
    }
   ],
   "source": [
    "df3['CrimeYear'].value_counts()"
   ]
  },
  {
   "cell_type": "code",
   "execution_count": 12,
   "metadata": {},
   "outputs": [
    {
     "output_type": "stream",
     "name": "stdout",
     "text": [
      "43313\n156\n"
     ]
    }
   ],
   "source": [
    "df4 = df\n",
    "print((df4['NumberYouthOffenders'] + df4['NumberAdultOffenders']).idxmax())\n",
    "print((df4['NumberYouthOffenders'] + df4['NumberAdultOffenders']).max())\n"
   ]
  },
  {
   "cell_type": "code",
   "execution_count": 13,
   "metadata": {},
   "outputs": [
    {
     "output_type": "execute_result",
     "data": {
      "text/plain": [
       "         CrimeIdentifier  NumberYouthOffenders  NumberAdultOffenders\n",
       "0                1085034                     0                     1\n",
       "1                1431379                     0                     1\n",
       "2                 167174                     0                     1\n",
       "3                1179096                     0                     1\n",
       "4                1270690                     0                     3\n",
       "...                  ...                   ...                   ...\n",
       "1280450            66044                     0                     1\n",
       "1280452          1029474                     0                     1\n",
       "1280453          1029475                     0                     1\n",
       "1280454          1112491                     0                     1\n",
       "1280457           523837                     0                     1\n",
       "\n",
       "[1164836 rows x 3 columns]"
      ],
      "text/html": "<div>\n<style scoped>\n    .dataframe tbody tr th:only-of-type {\n        vertical-align: middle;\n    }\n\n    .dataframe tbody tr th {\n        vertical-align: top;\n    }\n\n    .dataframe thead th {\n        text-align: right;\n    }\n</style>\n<table border=\"1\" class=\"dataframe\">\n  <thead>\n    <tr style=\"text-align: right;\">\n      <th></th>\n      <th>CrimeIdentifier</th>\n      <th>NumberYouthOffenders</th>\n      <th>NumberAdultOffenders</th>\n    </tr>\n  </thead>\n  <tbody>\n    <tr>\n      <th>0</th>\n      <td>1085034</td>\n      <td>0</td>\n      <td>1</td>\n    </tr>\n    <tr>\n      <th>1</th>\n      <td>1431379</td>\n      <td>0</td>\n      <td>1</td>\n    </tr>\n    <tr>\n      <th>2</th>\n      <td>167174</td>\n      <td>0</td>\n      <td>1</td>\n    </tr>\n    <tr>\n      <th>3</th>\n      <td>1179096</td>\n      <td>0</td>\n      <td>1</td>\n    </tr>\n    <tr>\n      <th>4</th>\n      <td>1270690</td>\n      <td>0</td>\n      <td>3</td>\n    </tr>\n    <tr>\n      <th>...</th>\n      <td>...</td>\n      <td>...</td>\n      <td>...</td>\n    </tr>\n    <tr>\n      <th>1280450</th>\n      <td>66044</td>\n      <td>0</td>\n      <td>1</td>\n    </tr>\n    <tr>\n      <th>1280452</th>\n      <td>1029474</td>\n      <td>0</td>\n      <td>1</td>\n    </tr>\n    <tr>\n      <th>1280453</th>\n      <td>1029475</td>\n      <td>0</td>\n      <td>1</td>\n    </tr>\n    <tr>\n      <th>1280454</th>\n      <td>1112491</td>\n      <td>0</td>\n      <td>1</td>\n    </tr>\n    <tr>\n      <th>1280457</th>\n      <td>523837</td>\n      <td>0</td>\n      <td>1</td>\n    </tr>\n  </tbody>\n</table>\n<p>1164836 rows × 3 columns</p>\n</div>"
     },
     "metadata": {},
     "execution_count": 13
    }
   ],
   "source": [
    "df4 = df4[['CrimeIdentifier', 'NumberYouthOffenders','NumberAdultOffenders']]\n",
    "df4.drop_duplicates('CrimeIdentifier')"
   ]
  },
  {
   "cell_type": "code",
   "execution_count": 14,
   "metadata": {},
   "outputs": [
    {
     "output_type": "stream",
     "name": "stdout",
     "text": [
      "27849\n",
      "        OffenderIdentifier OffenderGender  CrimeIdentifier  CrimeType1  \\\n",
      "43313                47053              M            27849     39999.0   \n",
      "48202                51795              M            27849     39999.0   \n",
      "52676                56003              M            27849     39999.0   \n",
      "55304                58110              M            27849     39999.0   \n",
      "58993                61468              M            27849     39999.0   \n",
      "...                    ...            ...              ...         ...   \n",
      "775354              450815              M            27849     39999.0   \n",
      "795913              460918              M            27849     39999.0   \n",
      "855836              489127              M            27849     39999.0   \n",
      "982842              541404              M            27849     39999.0   \n",
      "992153              544851              M            27849     39999.0   \n",
      "\n",
      "        CrimeType2  CrimeType3  CrimeType4  Municipality  CrimeLocation  \\\n",
      "43313          NaN         NaN         NaN         66023            9.0   \n",
      "48202          NaN         NaN         NaN         66023            9.0   \n",
      "52676          NaN         NaN         NaN         66023            9.0   \n",
      "55304          NaN         NaN         NaN         66023            9.0   \n",
      "58993          NaN         NaN         NaN         66023            9.0   \n",
      "...            ...         ...         ...           ...            ...   \n",
      "775354         NaN         NaN         NaN         66023            9.0   \n",
      "795913         NaN         NaN         NaN         66023            9.0   \n",
      "855836         NaN         NaN         NaN         66023            9.0   \n",
      "982842         NaN         NaN         NaN         66023            9.0   \n",
      "992153         NaN         NaN         NaN         66023            9.0   \n",
      "\n",
      "        NumberYouthOffenders  NumberAdultOffenders   CrimeDate  CrimeYear  \n",
      "43313                      0                   156  04/20/2009       2009  \n",
      "48202                      0                   156  04/20/2009       2009  \n",
      "52676                      0                   156  04/20/2009       2009  \n",
      "55304                      0                   156  04/20/2009       2009  \n",
      "58993                      0                   156  04/20/2009       2009  \n",
      "...                      ...                   ...         ...        ...  \n",
      "775354                     0                   156  04/20/2009       2009  \n",
      "795913                     0                   156  04/20/2009       2009  \n",
      "855836                     0                   156  04/20/2009       2009  \n",
      "982842                     0                   156  04/20/2009       2009  \n",
      "992153                     0                   156  04/20/2009       2009  \n",
      "\n",
      "[156 rows x 13 columns]\n",
      "<ipython-input-14-89efb8f2f85c>:1: SettingWithCopyWarning: \n",
      "A value is trying to be set on a copy of a slice from a DataFrame.\n",
      "Try using .loc[row_indexer,col_indexer] = value instead\n",
      "\n",
      "See the caveats in the documentation: https://pandas.pydata.org/pandas-docs/stable/user_guide/indexing.html#returning-a-view-versus-a-copy\n",
      "  df4['#Offenders'] = df4['NumberYouthOffenders'] + df4['NumberAdultOffenders']\n"
     ]
    }
   ],
   "source": [
    "df4['#Offenders'] = df4['NumberYouthOffenders'] + df4['NumberAdultOffenders']\n",
    "df4.index = df4['CrimeIdentifier']\n",
    "max_idx = df4['#Offenders'].idxmax()\n",
    "print(max_idx)\n",
    "print(df[df['CrimeIdentifier'] == max_idx])\n"
   ]
  },
  {
   "cell_type": "code",
   "execution_count": 15,
   "metadata": {},
   "outputs": [
    {
     "output_type": "stream",
     "name": "stdout",
     "text": [
      "300728    456\n440431    358\n253577    357\n120976    350\n373749    275\n         ... \n368342      1\n388824      1\n390875      1\n378589      1\n2049        1\nName: OffenderIdentifier, Length: 539593, dtype: int64\n"
     ]
    }
   ],
   "source": [
    "crimescount_id = df['OffenderIdentifier'].value_counts()\n",
    "print(crimescount_id)"
   ]
  },
  {
   "cell_type": "code",
   "execution_count": 16,
   "metadata": {
    "tags": []
   },
   "outputs": [],
   "source": [
    "df2 = df[['OffenderIdentifier', 'CrimeIdentifier']]\n",
    "df2 = df2.drop_duplicates()\n",
    "offender_count = 0\n",
    "offender_idx_dict = {}\n",
    "crime_count = 0\n",
    "crime_idx_dict = {}\n",
    "for idx in df2.values:\n",
    "    if idx[0] not in offender_idx_dict:\n",
    "        offender_idx_dict[idx[0]] = offender_count\n",
    "        offender_count += 1\n",
    "    if idx[1] not in crime_idx_dict:\n",
    "        crime_idx_dict[idx[1]] = crime_count\n",
    "        crime_count += 1\n",
    "df2['OffenderIdx'] = df2['OffenderIdentifier'].map(offender_idx_dict)\n",
    "df2['CrimeIdx'] = df2['CrimeIdentifier'].map(crime_idx_dict)"
   ]
  },
  {
   "cell_type": "code",
   "execution_count": 17,
   "metadata": {},
   "outputs": [],
   "source": [
    "from scipy.sparse import csr_matrix\n",
    "row = df2['OffenderIdx'].values\n",
    "col = df2['CrimeIdx'].values\n",
    "vals = np.ones(row.shape[0])\n",
    "crime_matrix = csr_matrix((vals, (row, col)), shape=(row.max() + 1, col.max() + 1))\n",
    "cooffend_matrix = crime_matrix @ crime_matrix.T"
   ]
  },
  {
   "cell_type": "code",
   "execution_count": 18,
   "metadata": {},
   "outputs": [],
   "source": [
    "cooffend_matrix[cooffend_matrix > 0] = 1\n",
    "cooffend_matrix.setdiag(0)\n",
    "cooffend_matrix.eliminate_zeros()"
   ]
  },
  {
   "cell_type": "code",
   "execution_count": 19,
   "metadata": {},
   "outputs": [],
   "source": [
    "graph = nx.from_scipy_sparse_matrix(cooffend_matrix,create_using=nx.Graph)"
   ]
  },
  {
   "cell_type": "code",
   "execution_count": 20,
   "metadata": {},
   "outputs": [
    {
     "output_type": "execute_result",
     "data": {
      "text/plain": [
       "539593"
      ]
     },
     "metadata": {},
     "execution_count": 20
    }
   ],
   "source": [
    "len(graph.nodes)"
   ]
  },
  {
   "cell_type": "code",
   "execution_count": 21,
   "metadata": {
    "tags": []
   },
   "outputs": [
    {
     "output_type": "stream",
     "name": "stdout",
     "text": [
      "418434\n"
     ]
    },
    {
     "output_type": "execute_result",
     "data": {
      "text/plain": [
       "418434"
      ]
     },
     "metadata": {},
     "execution_count": 21
    }
   ],
   "source": [
    "count = 0\n",
    "for i in graph.degree:\n",
    "    if i[1] == 0:\n",
    "        count += 1\n",
    "print(count)\n",
    "len(list(nx.isolates(graph)))"
   ]
  },
  {
   "cell_type": "code",
   "execution_count": 22,
   "metadata": {},
   "outputs": [
    {
     "output_type": "execute_result",
     "data": {
      "text/plain": [
       "178413"
      ]
     },
     "metadata": {},
     "execution_count": 22
    }
   ],
   "source": [
    "len(graph.edges)"
   ]
  },
  {
   "cell_type": "code",
   "execution_count": 23,
   "metadata": {},
   "outputs": [
    {
     "output_type": "execute_result",
     "data": {
      "text/plain": [
       "121159"
      ]
     },
     "metadata": {},
     "execution_count": 23
    }
   ],
   "source": [
    "graph.remove_nodes_from(list(nx.isolates(graph)))\n",
    "len(graph.nodes)"
   ]
  },
  {
   "cell_type": "code",
   "execution_count": 24,
   "metadata": {},
   "outputs": [
    {
     "output_type": "stream",
     "name": "stdout",
     "text": [
      "2.9451051923478944\n265\n"
     ]
    }
   ],
   "source": [
    "average = 0\n",
    "n = len(graph.nodes)\n",
    "count = 0\n",
    "for idx,d in graph.degree:\n",
    "    average += d/n\n",
    "    if d >= 100:\n",
    "        count += 1\n",
    "print(average)\n",
    "print(count)"
   ]
  },
  {
   "cell_type": "code",
   "execution_count": 25,
   "metadata": {},
   "outputs": [
    {
     "output_type": "execute_result",
     "data": {
      "text/plain": [
       "36098"
      ]
     },
     "metadata": {},
     "execution_count": 25
    }
   ],
   "source": [
    "len(sorted(nx.connected_components(graph), key=len, reverse=True))"
   ]
  },
  {
   "cell_type": "code",
   "execution_count": 26,
   "metadata": {},
   "outputs": [
    {
     "output_type": "execute_result",
     "data": {
      "text/plain": [
       "19924"
      ]
     },
     "metadata": {},
     "execution_count": 26
    }
   ],
   "source": [
    "components_list = sorted(nx.connected_components(graph), key=len, reverse=True)\n",
    "len(components_list[0])"
   ]
  },
  {
   "cell_type": "code",
   "execution_count": 27,
   "metadata": {},
   "outputs": [],
   "source": [
    "row = df2['OffenderIdx'].values\n",
    "col = df2['CrimeIdx'].values\n",
    "vals = np.ones(row.shape[0])\n",
    "crime_matrix = csr_matrix((vals, (row, col)), shape=(row.max() + 1, col.max() + 1))\n",
    "cooffend_matrix = crime_matrix @ crime_matrix.T\n",
    "cooffend_matrix[cooffend_matrix > 0] -= 1\n",
    "cooffend_matrix[cooffend_matrix >= 1] = 1\n",
    "cooffend_matrix.setdiag(0)\n",
    "cooffend_matrix.eliminate_zeros()\n",
    "graph_r = nx.from_scipy_sparse_matrix(cooffend_matrix,create_using=nx.Graph)\n",
    "graph_r.remove_nodes_from(list(nx.isolates(graph_r)))"
   ]
  },
  {
   "cell_type": "code",
   "execution_count": 28,
   "metadata": {},
   "outputs": [],
   "source": [
    "row = df2['OffenderIdx'].values\n",
    "col = df2['CrimeIdx'].values\n",
    "vals = np.ones(row.shape[0])\n",
    "crime_matrix = csr_matrix((vals, (row, col)), shape=(row.max() + 1, col.max() + 1))\n",
    "cooffend_matrix = crime_matrix @ crime_matrix.T\n",
    "cooffend_matrix[cooffend_matrix >= 2] = 0\n",
    "cooffend_matrix[cooffend_matrix > 0] = 1\n",
    "cooffend_matrix.setdiag(0)\n",
    "cooffend_matrix.eliminate_zeros()\n",
    "graph_nr = nx.from_scipy_sparse_matrix(cooffend_matrix,create_using=nx.Graph)\n",
    "graph_nr.remove_nodes_from(list(nx.isolates(graph_nr)))"
   ]
  },
  {
   "cell_type": "code",
   "execution_count": 29,
   "metadata": {},
   "outputs": [
    {
     "output_type": "execute_result",
     "data": {
      "text/plain": [
       "17764"
      ]
     },
     "metadata": {},
     "execution_count": 29
    }
   ],
   "source": [
    "len(graph_r.nodes)"
   ]
  },
  {
   "cell_type": "code",
   "execution_count": 30,
   "metadata": {},
   "outputs": [
    {
     "output_type": "execute_result",
     "data": {
      "text/plain": [
       "113519"
      ]
     },
     "metadata": {},
     "execution_count": 30
    }
   ],
   "source": [
    "len(graph_nr.nodes)"
   ]
  },
  {
   "cell_type": "code",
   "execution_count": 31,
   "metadata": {},
   "outputs": [
    {
     "output_type": "execute_result",
     "data": {
      "text/plain": [
       "15448"
      ]
     },
     "metadata": {},
     "execution_count": 31
    }
   ],
   "source": [
    "len(graph_r.edges)"
   ]
  },
  {
   "cell_type": "code",
   "execution_count": 32,
   "metadata": {},
   "outputs": [
    {
     "output_type": "execute_result",
     "data": {
      "text/plain": [
       "162965"
      ]
     },
     "metadata": {},
     "execution_count": 32
    }
   ],
   "source": [
    "len(graph_nr.edges)"
   ]
  },
  {
   "cell_type": "code",
   "execution_count": 33,
   "metadata": {},
   "outputs": [
    {
     "output_type": "execute_result",
     "data": {
      "text/plain": [
       "6463"
      ]
     },
     "metadata": {},
     "execution_count": 33
    }
   ],
   "source": [
    "len(sorted(nx.connected_components(graph_r), key=len, reverse=True))"
   ]
  },
  {
   "cell_type": "code",
   "execution_count": 34,
   "metadata": {},
   "outputs": [
    {
     "output_type": "execute_result",
     "data": {
      "text/plain": [
       "35596"
      ]
     },
     "metadata": {},
     "execution_count": 34
    }
   ],
   "source": [
    "len(sorted(nx.connected_components(graph_nr), key=len, reverse=True))"
   ]
  },
  {
   "cell_type": "code",
   "execution_count": 35,
   "metadata": {},
   "outputs": [
    {
     "output_type": "stream",
     "name": "stdout",
     "text": [
      "2.7485687761107833\n3.189094280258175\n"
     ]
    }
   ],
   "source": [
    "r_components_list = sorted(nx.connected_components(graph_r), key=len, reverse=True)\n",
    "nr_components_list = sorted(nx.connected_components(graph_nr), key=len, reverse=True)\n",
    "r_average = 0\n",
    "nr_average = 0\n",
    "r_n = len(sorted(nx.connected_components(graph_r), key=len, reverse=True))\n",
    "nr_n = len(sorted(nx.connected_components(graph_nr), key=len, reverse=True))\n",
    "for r_c in r_components_list:\n",
    "    r_average += len(r_c)/r_n\n",
    "for nr_c in nr_components_list:\n",
    "    nr_average += len(nr_c)/nr_n\n",
    "print(r_average)\n",
    "print(nr_average)"
   ]
  },
  {
   "cell_type": "code",
   "execution_count": 37,
   "metadata": {},
   "outputs": [
    {
     "output_type": "execute_result",
     "data": {
      "text/plain": [
       "0.0037153794190497636"
      ]
     },
     "metadata": {},
     "execution_count": 37
    }
   ],
   "source": [
    "len(r_components_list[0])/len(graph_r.nodes)"
   ]
  },
  {
   "cell_type": "code",
   "execution_count": 38,
   "metadata": {},
   "outputs": [
    {
     "output_type": "execute_result",
     "data": {
      "text/plain": [
       "0.10646675886855944"
      ]
     },
     "metadata": {},
     "execution_count": 38
    }
   ],
   "source": [
    "len(nr_components_list[0])/len(graph_nr.nodes)"
   ]
  },
  {
   "cell_type": "code",
   "execution_count": 47,
   "metadata": {},
   "outputs": [
    {
     "output_type": "execute_result",
     "data": {
      "text/plain": [
       "set"
      ]
     },
     "metadata": {},
     "execution_count": 47
    }
   ],
   "source": [
    "components_list[0]"
   ]
  },
  {
   "cell_type": "code",
   "execution_count": 52,
   "metadata": {},
   "outputs": [
    {
     "output_type": "execute_result",
     "data": {
      "text/plain": [
       "0.0003556454848657796"
      ]
     },
     "metadata": {},
     "execution_count": 52
    }
   ],
   "source": [
    "graph_largest_c = nx.subgraph(graph, components_list[0])\n",
    "nx.density(graph_largest_c)"
   ]
  },
  {
   "cell_type": "code",
   "execution_count": 54,
   "metadata": {},
   "outputs": [
    {
     "output_type": "execute_result",
     "data": {
      "text/plain": [
       "0.04568764568764569"
      ]
     },
     "metadata": {},
     "execution_count": 54
    }
   ],
   "source": [
    "graph_r_largest_c = nx.subgraph(graph_r, r_components_list[0])\n",
    "nx.density(graph_r_largest_c)"
   ]
  },
  {
   "cell_type": "code",
   "execution_count": 55,
   "metadata": {},
   "outputs": [
    {
     "output_type": "execute_result",
     "data": {
      "text/plain": [
       "0.0007231308979893168"
      ]
     },
     "metadata": {},
     "execution_count": 55
    }
   ],
   "source": [
    "graph_nr_largest_c = nx.subgraph(graph_nr, nr_components_list[0])\n",
    "nx.density(graph_nr_largest_c)"
   ]
  },
  {
   "cell_type": "code",
   "execution_count": null,
   "metadata": {},
   "outputs": [],
   "source": []
  }
 ]
}